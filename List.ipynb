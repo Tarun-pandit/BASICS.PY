{
  "cells": [
    {
      "cell_type": "markdown",
      "metadata": {
        "id": "view-in-github",
        "colab_type": "text"
      },
      "source": [
        "<a href=\"https://colab.research.google.com/github/Tarun-pandit/BASICS.PY/blob/main/List.ipynb\" target=\"_parent\"><img src=\"https://colab.research.google.com/assets/colab-badge.svg\" alt=\"Open In Colab\"/></a>"
      ]
    },
    {
      "cell_type": "code",
      "execution_count": null,
      "id": "afaa79ec",
      "metadata": {
        "vscode": {
          "languageId": "markdown"
        },
        "id": "afaa79ec",
        "outputId": "8f5322f4-2d41-4e6c-c835-cf1cba283d0d"
      },
      "outputs": [
        {
          "ename": "SyntaxError",
          "evalue": "invalid syntax (2933673906.py, line 1)",
          "output_type": "error",
          "traceback": [
            "\u001b[1;36m  Cell \u001b[1;32mIn[1], line 1\u001b[1;36m\u001b[0m\n\u001b[1;33m    A list in Python is a built-in data structure that is used to store an ordered collection of items. Here are the key points about lists in Python:\u001b[0m\n\u001b[1;37m      ^\u001b[0m\n\u001b[1;31mSyntaxError\u001b[0m\u001b[1;31m:\u001b[0m invalid syntax\n"
          ]
        }
      ],
      "source": [
        "#A list in Python is a built-in data structure that is used to store an ordered collection of items. Here are the key points about lists in Python:\n",
        "\n",
        "- **Definition**: A list is defined using square brackets `[]`, and items are separated by commas.\n",
        "    ```python\n",
        "    my_list = [1, 2, 3, 'apple', 4.5]\n",
        "    ```\n",
        "\n",
        "- **Mutable**: Lists are mutable, meaning you can change their content (add, remove, or modify elements) after creation.\n",
        "\n",
        "- **Indexing and Slicing**: You can access elements by their index (starting from 0), and use slicing to get sublists.\n",
        "    ```python\n",
        "    first_item = my_list[0]\n",
        "    sublist = my_list[1:3]\n",
        "    ```\n",
        "\n",
        "- **Heterogeneous**: Lists can contain items of different data types (integers, strings, floats, even other lists).\n",
        "\n",
        "- **Common Methods**:\n",
        "    - `append(x)`: Adds an item to the end.\n",
        "    - `insert(i, x)`: Inserts an item at a given position.\n",
        "    - `remove(x)`: Removes the first occurrence of an item.\n",
        "    - `pop([i])`: Removes and returns the item at the given position.\n",
        "    - `sort()`: Sorts the list in place.\n",
        "    - `reverse()`: Reverses the list in place.\n",
        "    - `extend(iterable)`: Extends the list by appending elements from another iterable.\n",
        "\n",
        "- **Iteration**: You can loop through a list using a `for` loop.\n",
        "    ```python\n",
        "    for item in my_list:\n",
        "            print(item)\n",
        "    ```\n",
        "\n",
        "- **Comprehensions**: Lists can be created using list comprehensions for concise and readable code.\n",
        "    ```python\n",
        "    squares = [x**2 for x in range(10)]\n",
        "    ```\n",
        "\n",
        "- **Nested Lists**: Lists can contain other lists as elements (useful for matrices).\n",
        "    ```python\n",
        "    matrix = [[1, 2], [3, 4]]\n",
        "    ```\n",
        "\n",
        "- **Length**: Use `len()` to get the number of items in a list.\n",
        "    ```python\n",
        "    length = len(my_list)\n",
        "    ```\n",
        "\n",
        "#Lists are one of the most versatile and commonly used data structures in Python."
      ]
    },
    {
      "cell_type": "code",
      "execution_count": null,
      "id": "2ff997cc",
      "metadata": {
        "vscode": {
          "languageId": "markdown"
        },
        "id": "2ff997cc",
        "outputId": "b35a4218-22de-425d-b755-4f0a9451428e"
      },
      "outputs": [
        {
          "name": "stdout",
          "output_type": "stream",
          "text": [
            "<class 'list'>\n"
          ]
        }
      ],
      "source": [
        "lst=[]\n",
        "print(type(lst))"
      ]
    },
    {
      "cell_type": "code",
      "execution_count": 3,
      "id": "7079f140",
      "metadata": {
        "vscode": {
          "languageId": "markdown"
        },
        "colab": {
          "base_uri": "https://localhost:8080/"
        },
        "id": "7079f140",
        "outputId": "20c72959-91bf-43b1-8aa1-104e30b55032"
      },
      "outputs": [
        {
          "output_type": "stream",
          "name": "stdout",
          "text": [
            "['Tarun', 'jack', 'shubham']\n",
            "Tarun\n",
            "shubham\n"
          ]
        }
      ],
      "source": [
        "names=[\"Tarun\",\"jack\",\"shubham\"]\n",
        "print(names)\n",
        "print(names[0])\n",
        "print(names[2])\n",
        "\n"
      ]
    },
    {
      "cell_type": "code",
      "source": [
        "## Modifying the list element\n",
        "names[1]=\"Ram\"\n",
        "print(names)\n"
      ],
      "metadata": {
        "colab": {
          "base_uri": "https://localhost:8080/"
        },
        "id": "07fXcvNMKNIK",
        "outputId": "3bdcbcc0-7732-4c2c-edd3-1946e305cf88"
      },
      "id": "07fXcvNMKNIK",
      "execution_count": 4,
      "outputs": [
        {
          "output_type": "stream",
          "name": "stdout",
          "text": [
            "['Tarun', 'Ram', 'shubham']\n"
          ]
        }
      ]
    },
    {
      "cell_type": "code",
      "source": [
        "fruits=[\"Apples\",\"Banana\",\"Oranges\",\"Cherry\",\"Kiwi\"]\n",
        "print(fruits)"
      ],
      "metadata": {
        "colab": {
          "base_uri": "https://localhost:8080/"
        },
        "id": "nRkjBRmHLRJM",
        "outputId": "10aa2e48-0ff1-4e2e-eabc-69df759f4c87"
      },
      "id": "nRkjBRmHLRJM",
      "execution_count": 5,
      "outputs": [
        {
          "output_type": "stream",
          "name": "stdout",
          "text": [
            "['Apples', 'Banana', 'Oranges', 'Cherry', 'Kiwi']\n"
          ]
        }
      ]
    },
    {
      "cell_type": "code",
      "source": [
        "## List Methods\n",
        "fruits.append(\"Guava\") ## Add at the end\n",
        "print(fruits)"
      ],
      "metadata": {
        "colab": {
          "base_uri": "https://localhost:8080/"
        },
        "id": "Xdreb_KWLuPY",
        "outputId": "9d1e18f8-2706-49f4-a41f-19d1e2d1386a"
      },
      "id": "Xdreb_KWLuPY",
      "execution_count": 6,
      "outputs": [
        {
          "output_type": "stream",
          "name": "stdout",
          "text": [
            "['Apples', 'Banana', 'Oranges', 'Cherry', 'Kiwi', 'Guava']\n"
          ]
        }
      ]
    },
    {
      "cell_type": "code",
      "source": [
        "fruits.insert(1,\"Mango\") ## Add at the index\n",
        "print(fruits)"
      ],
      "metadata": {
        "colab": {
          "base_uri": "https://localhost:8080/"
        },
        "id": "OZZKIEUxN3ql",
        "outputId": "8dcabb0e-5bac-4247-a686-544c813fa95b"
      },
      "id": "OZZKIEUxN3ql",
      "execution_count": 7,
      "outputs": [
        {
          "output_type": "stream",
          "name": "stdout",
          "text": [
            "['Apples', 'Mango', 'Banana', 'Oranges', 'Cherry', 'Kiwi', 'Guava']\n"
          ]
        }
      ]
    },
    {
      "cell_type": "code",
      "source": [
        "fruits.remove(\"Kiwi\") ## Remove the element first occurence\n",
        "print(fruits)"
      ],
      "metadata": {
        "colab": {
          "base_uri": "https://localhost:8080/"
        },
        "id": "vu_zl5IlOW53",
        "outputId": "1a6d6292-613b-4fea-b3b0-8af8e2dc980b"
      },
      "id": "vu_zl5IlOW53",
      "execution_count": 8,
      "outputs": [
        {
          "output_type": "stream",
          "name": "stdout",
          "text": [
            "['Apples', 'Mango', 'Banana', 'Oranges', 'Cherry', 'Guava']\n"
          ]
        }
      ]
    },
    {
      "cell_type": "code",
      "source": [
        "## remove and return the last item\n",
        "pop_fruits=fruits.pop()\n",
        "print(pop_fruits)\n",
        "print(fruits)"
      ],
      "metadata": {
        "colab": {
          "base_uri": "https://localhost:8080/"
        },
        "id": "QZ_8qVaGOdrT",
        "outputId": "057f2d9e-4e95-4214-8e4d-d96febb1ec2e"
      },
      "id": "QZ_8qVaGOdrT",
      "execution_count": 9,
      "outputs": [
        {
          "output_type": "stream",
          "name": "stdout",
          "text": [
            "Guava\n",
            "['Apples', 'Mango', 'Banana', 'Oranges', 'Cherry']\n"
          ]
        }
      ]
    },
    {
      "cell_type": "code",
      "source": [
        "fruits.index(\"Cherry\")"
      ],
      "metadata": {
        "colab": {
          "base_uri": "https://localhost:8080/"
        },
        "id": "GrZqYFbJPL_E",
        "outputId": "a563ba1d-d84c-4d5f-adce-694f6d3522b6"
      },
      "id": "GrZqYFbJPL_E",
      "execution_count": 10,
      "outputs": [
        {
          "output_type": "execute_result",
          "data": {
            "text/plain": [
              "4"
            ]
          },
          "metadata": {},
          "execution_count": 10
        }
      ]
    },
    {
      "cell_type": "code",
      "source": [],
      "metadata": {
        "id": "bP8ZnjuXPe6q"
      },
      "id": "bP8ZnjuXPe6q",
      "execution_count": null,
      "outputs": []
    }
  ],
  "metadata": {
    "kernelspec": {
      "display_name": "base",
      "language": "python",
      "name": "python3"
    },
    "language_info": {
      "codemirror_mode": {
        "name": "ipython",
        "version": 3
      },
      "file_extension": ".py",
      "mimetype": "text/x-python",
      "name": "python",
      "nbconvert_exporter": "python",
      "pygments_lexer": "ipython3",
      "version": "3.13.5"
    },
    "colab": {
      "provenance": [],
      "include_colab_link": true
    }
  },
  "nbformat": 4,
  "nbformat_minor": 5
}